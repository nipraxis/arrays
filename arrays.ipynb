{
 "cells": [
  {
   "cell_type": "markdown",
   "id": "0316ca1e",
   "metadata": {},
   "source": [
    "# Array exercises\n"
   ]
  },
  {
   "cell_type": "markdown",
   "id": "664e45bb",
   "metadata": {},
   "source": [
    "## About this exercise\n",
    "\n",
    "This exercise is an edited version of a lab from [the Berkeley data science\n",
    "course](https://github.com/data-8/data8assets/tree/gh-pages/materials/su17/lab/lab02),\n",
    "with thanks.  If you make a new version of this original, please note that this\n",
    "exercise has a [CC-BY-NC\n",
    "license](http://creativecommons.org/licenses/by-nc/4.0/); remember to give\n",
    "attribution to the original authors from the repository above.\n"
   ]
  },
  {
   "cell_type": "markdown",
   "id": "17126a13",
   "metadata": {},
   "source": [
    "## Getting started\n",
    "\n",
    "Initialize the OKpy tests to get started."
   ]
  },
  {
   "cell_type": "code",
   "execution_count": null,
   "id": "5fd35a43",
   "metadata": {},
   "outputs": [],
   "source": [
    "# Run this cell.\n",
    "from client.api.notebook import Notebook\n",
    "ok = Notebook('arrays.ok')"
   ]
  },
  {
   "cell_type": "markdown",
   "id": "26b8156b",
   "metadata": {},
   "source": [
    "Up to now, we haven't done much that you couldn't do yourself by hand, without\n",
    "going through the trouble of learning Python.  Computers are most useful when\n",
    "you can use a small amount of code to *do the same action* to *many different\n",
    "things*.\n",
    "\n",
    "For example, in the time it takes you to calculate the 18% tip on a restaurant\n",
    "bill, a laptop can calculate 18% tips for every restaurant bill paid by every\n",
    "human on Earth that day.  (That's if you're pretty fast at doing arithmetic in\n",
    "your head!)\n",
    "\n",
    "**Arrays** are how we put many values in one place so that we can operate on\n",
    "them as a group. For example, if `billions_of_numbers` is an array of numbers,\n",
    "the expression\n",
    "\n",
    "```\n",
    ".18 * billions_of_numbers\n",
    "```\n",
    "\n",
    "gives a new array of numbers that's the result of multiplying *each number* in\n",
    "`billions_of_numbers` by .18 (18%).  Arrays are not limited to numbers; we can\n",
    "also put all the words in a book into an array of strings.\n",
    "\n",
    "Concretely, an array is a **collection of values of the same type**, like\n",
    "a column in an Excel spreadsheet. \n",
    "\n",
    "<img src=\"excel_array.jpg\">\n"
   ]
  },
  {
   "cell_type": "markdown",
   "id": "8c26f2a2",
   "metadata": {},
   "source": [
    "## Making arrays"
   ]
  },
  {
   "cell_type": "markdown",
   "id": "2823f8e4",
   "metadata": {},
   "source": [
    "You can type in the data that goes in an array yourself, but that's not\n",
    "typically how programs work. Normally, we create arrays by loading them from an\n",
    "external source, like a data file.\n",
    "\n",
    "First, though, let's learn how to do it the hard way.\n",
    "\n",
    "Arrays are provided by a package called [NumPy](http://www.numpy.org/)\n",
    "(pronounced \"NUM-pie\" or, if you prefer to pronounce things incorrectly,\n",
    "\"NUM-pee\").  The package is called `numpy`, but it's standard to rename it\n",
    "`np` for brevity.  You can do that with:"
   ]
  },
  {
   "cell_type": "code",
   "execution_count": null,
   "id": "34a97545",
   "metadata": {},
   "outputs": [],
   "source": [
    "import numpy as np"
   ]
  },
  {
   "cell_type": "markdown",
   "id": "ad2aa749",
   "metadata": {},
   "source": [
    "Now, to create an array, first make a *list* with the values you want to put\n",
    "in the array.  Then create the array by using the `array` function from Numpy.\n",
    "Run this cell to see an example:"
   ]
  },
  {
   "cell_type": "code",
   "execution_count": null,
   "id": "7de4dbbb",
   "metadata": {},
   "outputs": [],
   "source": [
    "values = [0.125, 4.75, -1.3]\n",
    "np.array(values)"
   ]
  },
  {
   "cell_type": "markdown",
   "id": "feef2845",
   "metadata": {},
   "source": [
    "Each value in an array (in the above case, the numbers 0.125, 4.75, and -1.3)\n",
    "is called an *element* of that array.\n",
    "\n",
    "Arrays themselves are also values, just like numbers and strings.  That means\n",
    "you can assign them names or use them as arguments to functions."
   ]
  },
  {
   "cell_type": "markdown",
   "id": "0478265b",
   "metadata": {},
   "source": [
    "**Question 1.1.1.** Make an *array* containing the numbers 1, 2, and 3, in\n",
    "that order.  Name it `small_numbers`."
   ]
  },
  {
   "cell_type": "code",
   "execution_count": null,
   "id": "79e35ed5",
   "metadata": {},
   "outputs": [],
   "source": [
    "small_numbers = ...\n",
    "small_numbers"
   ]
  },
  {
   "cell_type": "code",
   "execution_count": null,
   "id": "934483a6",
   "metadata": {},
   "outputs": [],
   "source": [
    "_ = ok.grade('q411')"
   ]
  },
  {
   "cell_type": "markdown",
   "id": "ca4604d2",
   "metadata": {},
   "source": [
    "**Question 1.1.2.** Make an array containing the numbers 0, 1, -1, $\\pi$, and\n",
    "$e$, in that order.  Name it `interesting_numbers`.  *Hint:* the Numpy `np`\n",
    "module has the value $\\pi$ as `np.pi`.  It also has the value $e$."
   ]
  },
  {
   "cell_type": "code",
   "execution_count": null,
   "id": "e66e248b",
   "metadata": {},
   "outputs": [],
   "source": [
    "interesting_numbers = ...\n",
    "interesting_numbers"
   ]
  },
  {
   "cell_type": "code",
   "execution_count": null,
   "id": "818fd35f",
   "metadata": {},
   "outputs": [],
   "source": [
    "_ = ok.grade('q412')"
   ]
  },
  {
   "cell_type": "markdown",
   "id": "45868ef5",
   "metadata": {},
   "source": [
    "## Ranges"
   ]
  },
  {
   "cell_type": "markdown",
   "id": "5b77fe84",
   "metadata": {},
   "source": [
    "Very often in data science, we want to work with many numbers that are evenly\n",
    "spaced within some range.  NumPy provides a special function for this called\n",
    "`arange`.  `np.arange(start, stop, space)` produces an array with all the\n",
    "numbers starting at `start` and counting up by `space`, stopping before `stop`\n",
    "is reached.\n",
    "\n",
    "For example, the value of `np.arange(1, 6, 2)` is an array with elements 1, 3,\n",
    "and 5 -- it starts at 1 and counts up by 2, then stops before 6.  In other\n",
    "words, it's equivalent to `np.array([1, 3, 5])`.\n",
    "\n",
    "`np.arange(4, 9, 1)` is an array with elements 4, 5, 6, 7, and 8.  (It doesn't\n",
    "contain 9 because `np.arange` stops *before* the stop value is reached.)\n",
    "\n",
    "**Question 1.1.1.1.** Use `np.arange` to create an array with the multiples of\n",
    "99 from 0 up to (**and including**) 9999.  (So its elements are 0, 99, 198,\n",
    "297, etc.)"
   ]
  },
  {
   "cell_type": "code",
   "execution_count": null,
   "id": "250e57ff",
   "metadata": {},
   "outputs": [],
   "source": [
    "multiples_of_99 = ...\n",
    "multiples_of_99"
   ]
  },
  {
   "cell_type": "code",
   "execution_count": null,
   "id": "b26c50e0",
   "metadata": {},
   "outputs": [],
   "source": [
    "_ = ok.grade('q4111')"
   ]
  },
  {
   "cell_type": "markdown",
   "id": "95349d0a",
   "metadata": {},
   "source": [
    "## Temperature readings"
   ]
  },
  {
   "cell_type": "markdown",
   "id": "04f64847",
   "metadata": {},
   "source": [
    "NOAA (the US National Oceanic and Atmospheric Administration) operates weather\n",
    "stations that measure surface temperatures at different sites around the\n",
    "United States.  The hourly readings are [publicly\n",
    "available](http://www.ncdc.noaa.gov/qclcd/QCLCD?prior=N).\n",
    "\n",
    "Suppose we download all the hourly data from the Oakland, California site for\n",
    "the month of December 2015.  To analyze the data, we want to know when each\n",
    "reading was taken, but we find that the data don't include the timestamps of\n",
    "the readings (the time at which each one was taken).\n",
    "\n",
    "However, we know the first reading was taken at the first instant of December\n",
    "2015 (midnight on December 1st) and each subsequent reading was taken exactly\n",
    "1 hour after the last.\n",
    "\n",
    "**Question 1.1.1.2.** Create an array of the *time, in seconds, since the\n",
    "start of the month* at which each hourly reading was taken.  Name it\n",
    "`collection_times`.\n",
    "\n",
    "*Hint 1:* There were 31 days in December, which is equivalent to ($31 \\times\n",
    "24$) hours or ($31 \\times 24 \\times 60 \\times 60$) seconds.  So your array\n",
    "should have $31 \\times 24$ elements in it, but elements should be $60 \\times 60$\n",
    "seconds apart.\n",
    "\n",
    "*Hint 2:* The `len` function works on arrays, too.  If your `collection_times`\n",
    "isn't passing the tests, check its length and make sure it has $31 \\times 24$\n",
    "elements."
   ]
  },
  {
   "cell_type": "code",
   "execution_count": null,
   "id": "e9c5f4c1",
   "metadata": {},
   "outputs": [],
   "source": [
    "collection_times = ...\n",
    "collection_times"
   ]
  },
  {
   "cell_type": "code",
   "execution_count": null,
   "id": "8bdc3e40",
   "metadata": {},
   "outputs": [],
   "source": [
    "_ = ok.grade('q4112')"
   ]
  },
  {
   "cell_type": "markdown",
   "id": "5dfea699",
   "metadata": {},
   "source": [
    "## Working with single elements of arrays (\"indexing\")"
   ]
  },
  {
   "cell_type": "markdown",
   "id": "1eb4e6e3",
   "metadata": {},
   "source": [
    "Let's work with a more interesting dataset.  The next cell creates an array\n",
    "called `population` that includes estimated world populations in every year\n",
    "from **1950** to roughly the present.  (The estimates come from the [US Census\n",
    "Bureau\n",
    "website](http://www.census.gov/population/international/data/worldpop/table_population.php).)\n",
    "\n",
    "Rather than type in the data manually, we've loaded them from a file on your\n",
    "computer called `world_population.csv`.  You'll learn how to do that next week."
   ]
  },
  {
   "cell_type": "code",
   "execution_count": null,
   "id": "c04081e0",
   "metadata": {},
   "outputs": [],
   "source": [
    "# Don't worry too much about what goes on in this cell.\n",
    "import pandas as pd\n",
    "# Load the data table into memory.\n",
    "world_pop = pd.read_csv(\"world_population.csv\")\n",
    "# Get the population column as an array.\n",
    "population = np.array(world_pop[\"Population\"])"
   ]
  },
  {
   "cell_type": "markdown",
   "id": "8a569355",
   "metadata": {},
   "source": [
    "Here's how we get the first element of `population`, which is the world\n",
    "population in the first year in the dataset, 1950."
   ]
  },
  {
   "cell_type": "code",
   "execution_count": null,
   "id": "fd056428",
   "metadata": {},
   "outputs": [],
   "source": [
    "population[0]"
   ]
  },
  {
   "cell_type": "markdown",
   "id": "8d3ac754",
   "metadata": {},
   "source": [
    "Notice the form - first the array value `population`, then open square brackets `[` then the `0` to identify the value we want, and close square brackets `]`.  This is called *indexing into* the array.  Read the square brackets as the request to fetch something from within the array, and the stuff within the brackets (here `0`) as the information to identify which element we want."
   ]
  },
  {
   "cell_type": "markdown",
   "id": "3484f3f7",
   "metadata": {},
   "source": [
    "The value of that expression is the number 2557628654 (around 2.5 billion),\n",
    "because that's the first thing in the array `population`.\n",
    "\n",
    "Notice that we wrote `[0]`, not `[1]`, to get the first element. This is a\n",
    "weird convention in computer science.  0 is called the *index* or *position*\n",
    "of the first item.  It's the number of elements that appear *before* that\n",
    "item.  So 3 is the index of the 4th item.\n",
    "\n",
    "Here are some more examples.  In the examples, we've given names to the things\n",
    "we get out of `population`.  Read and run each cell."
   ]
  },
  {
   "cell_type": "code",
   "execution_count": null,
   "id": "2757f64d",
   "metadata": {},
   "outputs": [],
   "source": [
    "# The third element in the array is the population\n",
    "# in 1952.\n",
    "population_1952 = population[2]\n",
    "population_1952"
   ]
  },
  {
   "cell_type": "code",
   "execution_count": null,
   "id": "772bed1d",
   "metadata": {},
   "outputs": [],
   "source": [
    "# The thirteenth element in the array is the population\n",
    "# in 1962 (which is 1950 + 12).\n",
    "population_1962 = population[12]\n",
    "population_1962"
   ]
  },
  {
   "cell_type": "code",
   "execution_count": null,
   "id": "5bc5b38c",
   "metadata": {},
   "outputs": [],
   "source": [
    "# The 66th element is the population in 2015.\n",
    "population_2015 = population[65]\n",
    "population_2015"
   ]
  },
  {
   "cell_type": "code",
   "execution_count": null,
   "id": "efd421c0",
   "metadata": {
    "tags": [
     "raises-exception"
    ]
   },
   "outputs": [],
   "source": [
    "# The array has only 66 elements, so this doesn't work.\n",
    "# (There's no element with 66 other elements before it.)\n",
    "population_2016 = population[66]\n",
    "population_2016"
   ]
  },
  {
   "cell_type": "code",
   "execution_count": null,
   "id": "cb6fea07",
   "metadata": {},
   "outputs": [],
   "source": [
    "# Since np.array returns an array, we can call [3]\n",
    "# on its output to get its 4th element.\n",
    "np.array([-1, -3, 4, -2])[3]"
   ]
  },
  {
   "cell_type": "markdown",
   "id": "2c376b86",
   "metadata": {},
   "source": [
    "**Question 1.2.1.** Set `population_1973` to the world population in 1973, by\n",
    "getting the appropriate element from `population` using `item`."
   ]
  },
  {
   "cell_type": "code",
   "execution_count": null,
   "id": "91779ab4",
   "metadata": {},
   "outputs": [],
   "source": [
    "population_1973 = ...\n",
    "population_1973"
   ]
  },
  {
   "cell_type": "code",
   "execution_count": null,
   "id": "5b611784",
   "metadata": {},
   "outputs": [],
   "source": [
    "_ = ok.grade('q421')"
   ]
  },
  {
   "cell_type": "markdown",
   "id": "efb5878d",
   "metadata": {},
   "source": [
    "## Doing something to every element of an array"
   ]
  },
  {
   "cell_type": "markdown",
   "id": "5fc74556",
   "metadata": {},
   "source": [
    "Arrays are primarily useful for doing the same operation many times, so we\n",
    "don't often have to use indexing to get single elements, as we have above."
   ]
  },
  {
   "cell_type": "markdown",
   "id": "82eb433c",
   "metadata": {},
   "source": [
    "### Logarithms\n",
    "\n",
    "Here is one simple question we might ask about world population:\n",
    "\n",
    "> How big was the population in *orders of magnitude* in each year?\n",
    "\n",
    "The logarithm function is one way of measuring how big a number is. The\n",
    "logarithm (base 10) of a number increases by 1 every time we multiply the\n",
    "number by 10. It's like a measure of how many decimal digits the number has, or\n",
    "how big it is in orders of magnitude.\n",
    "\n",
    "We could try to answer our question like this, using the `log10` function from\n",
    "the `np` module and the indexing to get single elements, that you saw above."
   ]
  },
  {
   "cell_type": "code",
   "execution_count": null,
   "id": "7555a62b",
   "metadata": {},
   "outputs": [],
   "source": [
    "population_1950_magnitude = np.log10(population[0])\n",
    "population_1951_magnitude = np.log10(population[1])\n",
    "population_1952_magnitude = np.log10(population[2])\n",
    "population_1953_magnitude = np.log10(population[3])\n",
    "# And so on"
   ]
  },
  {
   "cell_type": "markdown",
   "id": "595f3d9e",
   "metadata": {},
   "source": [
    "But this is tedious and doesn't take full advantage of the fact that we are\n",
    "using a computer.\n",
    "\n",
    "Instead, NumPy's version of `log10` can take the logarithm of *each element* of\n",
    "an array.  It takes a single array of numbers as its argument.  It returns an\n",
    "array of the same length, where the first element of the result is the\n",
    "logarithm of the first element of the argument, and so on.\n",
    "\n",
    "**Question 1.3.1.** Use Numpy to compute the logarithms of the world population\n",
    "in every year.  Give the result (an array of 66 numbers) the name\n",
    "`population_magnitudes`.  Your code should be very short."
   ]
  },
  {
   "cell_type": "code",
   "execution_count": null,
   "id": "0494ab1c",
   "metadata": {},
   "outputs": [],
   "source": [
    "population_magnitudes = ...\n",
    "population_magnitudes"
   ]
  },
  {
   "cell_type": "code",
   "execution_count": null,
   "id": "07068500",
   "metadata": {},
   "outputs": [],
   "source": [
    "_ = ok.grade('q431')"
   ]
  },
  {
   "cell_type": "markdown",
   "id": "048044a0",
   "metadata": {},
   "source": [
    "<img src=\"array_logarithm.jpg\">\n",
    "\n",
    "This is called *elementwise* application of the function, since it operates separately on each element of the array it's called on.  The textbook's section on arrays has a useful list of NumPy functions that are designed to work elementwise, like `np.log10`.\n"
   ]
  },
  {
   "cell_type": "markdown",
   "id": "3452489c",
   "metadata": {},
   "source": [
    "## Arithmetic"
   ]
  },
  {
   "cell_type": "markdown",
   "id": "f3ba93f5",
   "metadata": {},
   "source": [
    "Arithmetic also works elementwise on arrays.  For example, you can divide all the population numbers by 1 billion to get numbers in billions:\n"
   ]
  },
  {
   "cell_type": "code",
   "execution_count": null,
   "id": "640dea75",
   "metadata": {},
   "outputs": [],
   "source": [
    "population_in_billions = population / 1000000000\n",
    "population_in_billions"
   ]
  },
  {
   "cell_type": "markdown",
   "id": "92b1e633",
   "metadata": {},
   "source": [
    "You can do the same with addition, subtraction, multiplication, and exponentiation (`**`). For example, you can calculate a tip on several restaurant bills at once (in this case just 3):\n"
   ]
  },
  {
   "cell_type": "code",
   "execution_count": null,
   "id": "636d5bd0",
   "metadata": {},
   "outputs": [],
   "source": [
    "restaurant_bills = np.array([20.12, 39.90, 31.01])\n",
    "print(\"Restaurant bills:\\t\", restaurant_bills)\n",
    "tips = .2 * restaurant_bills\n",
    "print(\"Tips:\\t\\t\\t\", tips)"
   ]
  },
  {
   "cell_type": "markdown",
   "id": "d95ed0b2",
   "metadata": {},
   "source": [
    "<img src=\"array_multiplication.jpg\">"
   ]
  },
  {
   "cell_type": "markdown",
   "id": "6179a4ad",
   "metadata": {},
   "source": [
    "**Question 1.3.2.** Suppose the total charge at a restaurant is the original\n",
    "bill plus the tip.  That means we can multiply the original bill by 1.2 to get\n",
    "the total charge.  Compute the total charge for each bill in\n",
    "`restaurant_bills`."
   ]
  },
  {
   "cell_type": "code",
   "execution_count": null,
   "id": "f790df02",
   "metadata": {},
   "outputs": [],
   "source": [
    "total_charges = ...\n",
    "total_charges"
   ]
  },
  {
   "cell_type": "code",
   "execution_count": null,
   "id": "c6f5261f",
   "metadata": {},
   "outputs": [],
   "source": [
    "_ = ok.grade('q432')"
   ]
  },
  {
   "cell_type": "markdown",
   "id": "ff95349b",
   "metadata": {},
   "source": [
    "**Question 1.3.3.** `more_restaurant_bills.csv` contains 100,000 bills!\n",
    "Compute the total charge for each one.  How is your code different?"
   ]
  },
  {
   "cell_type": "code",
   "execution_count": null,
   "id": "38dda5a7",
   "metadata": {},
   "outputs": [],
   "source": [
    "# Don't worry about the next two lines.  They get the data into an array.\n",
    "bills_table = pd.read_table(\"more_restaurant_bills.csv\")\n",
    "more_restaurant_bills = np.array(bills_table[\"Bill\"])\n",
    "\n",
    "# Your code here.  It will use the more_restaurant_bills variable.\n",
    "more_total_charges = ...\n",
    "more_total_charges"
   ]
  },
  {
   "cell_type": "code",
   "execution_count": null,
   "id": "a9b7995d",
   "metadata": {},
   "outputs": [],
   "source": [
    "_ = ok.grade('q433')"
   ]
  },
  {
   "cell_type": "markdown",
   "id": "1a5a6757",
   "metadata": {},
   "source": [
    "The function `sum` takes a single array of numbers as its argument.  It returns\n",
    "the sum of all the numbers in that array (so it returns a single number, not an\n",
    "array).\n",
    "\n",
    "**Question 1.3.4.** What was the sum of all the bills in\n",
    "`more_restaurant_bills`, *including tips*?"
   ]
  },
  {
   "cell_type": "code",
   "execution_count": null,
   "id": "f4f585b2",
   "metadata": {},
   "outputs": [],
   "source": [
    "sum_of_bills = ...\n",
    "sum_of_bills"
   ]
  },
  {
   "cell_type": "code",
   "execution_count": null,
   "id": "0f440c08",
   "metadata": {},
   "outputs": [],
   "source": [
    "_ = ok.grade('q434')"
   ]
  },
  {
   "cell_type": "markdown",
   "id": "b19e76a3",
   "metadata": {},
   "source": [
    "**Question 1.3.5.** The powers of 2 ($2^0 = 1$, $2^1 = 2$, $2^2 = 4$, etc)\n",
    "arise frequently in computer science.  (For example, you may have noticed that\n",
    "storage on smartphones or USBs come in powers of 2, like 16 GB, 32 GB, or 64\n",
    "GB.)  Use `np.arange` and the exponentiation operator `**` to compute the first\n",
    "30 powers of 2, starting from `2^0`."
   ]
  },
  {
   "cell_type": "code",
   "execution_count": null,
   "id": "43438b7f",
   "metadata": {},
   "outputs": [],
   "source": [
    "powers_of_2 = ...\n",
    "powers_of_2"
   ]
  },
  {
   "cell_type": "code",
   "execution_count": null,
   "id": "4767779a",
   "metadata": {},
   "outputs": [],
   "source": [
    "_ = ok.grade('q435')"
   ]
  },
  {
   "cell_type": "markdown",
   "id": "fa41cc7b",
   "metadata": {},
   "source": [
    "Congratulations, you're done with the assignment!  Be sure to:\n",
    "\n",
    "- **run all the tests** (the next cell has a shortcut for that),\n",
    "- **Save and Checkpoint** from the `File` menu."
   ]
  },
  {
   "cell_type": "code",
   "execution_count": null,
   "id": "e17c1346",
   "metadata": {},
   "outputs": [],
   "source": [
    "# For your convenience, you can run this cell to run all the tests at once!\n",
    "import os\n",
    "_ = [ok.grade(q[:-3]) for q in os.listdir(\"tests\") if q.startswith('q')]"
   ]
  }
 ],
 "metadata": {
  "jupytext": {
   "notebook_metadata_filter": "all,-language_info",
   "split_at_heading": true,
   "text_representation": {
    "extension": ".Rmd",
    "format_name": "rmarkdown",
    "format_version": "1.2",
    "jupytext_version": "1.13.7"
   }
  },
  "kernelspec": {
   "display_name": "Python 3",
   "language": "python",
   "name": "python3"
  }
 },
 "nbformat": 4,
 "nbformat_minor": 5
}
